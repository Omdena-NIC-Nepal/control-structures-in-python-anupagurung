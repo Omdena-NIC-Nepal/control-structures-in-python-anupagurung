{
 "cells": [
  {
   "cell_type": "code",
   "execution_count": 5,
   "metadata": {},
   "outputs": [],
   "source": [
    "def while_loop():\n",
    "    number = 0\n",
    "    while number <= 16:\n",
    "        print(number)\n",
    "        number += 2  "
   ]
  },
  {
   "cell_type": "code",
   "execution_count": 1,
   "metadata": {},
   "outputs": [],
   "source": [
    "def for_loop_continue():\n",
    "    for num in range(1, 16):\n",
    "        if num % 3 == 0:\n",
    "            continue\n",
    "        print(num)"
   ]
  },
  {
   "cell_type": "code",
   "execution_count": 2,
   "metadata": {},
   "outputs": [],
   "source": [
    "def number_classification():\n",
    "    num = int(input(\"Enter a number: \"))\n",
    "    if num > 0:\n",
    "        print(\"Positive\")\n",
    "    elif num < 0:\n",
    "        print(\"Negative\")\n",
    "    else:\n",
    "        print(\"Zero\")"
   ]
  },
  {
   "cell_type": "code",
   "execution_count": 4,
   "metadata": {},
   "outputs": [],
   "source": [
    "\n",
    "def multiplication_table():\n",
    "    for i in range(1, 6):\n",
    "        for j in range(1, 6):\n",
    "            print(f\"{i} x {j} = {i * j}\")"
   ]
  },
  {
   "cell_type": "markdown",
   "metadata": {},
   "source": []
  }
 ],
 "metadata": {
  "kernelspec": {
   "display_name": "Python 3",
   "language": "python",
   "name": "python3"
  },
  "language_info": {
   "codemirror_mode": {
    "name": "ipython",
    "version": 3
   },
   "file_extension": ".py",
   "mimetype": "text/x-python",
   "name": "python",
   "nbconvert_exporter": "python",
   "pygments_lexer": "ipython3",
   "version": "3.12.8"
  }
 },
 "nbformat": 4,
 "nbformat_minor": 2
}
